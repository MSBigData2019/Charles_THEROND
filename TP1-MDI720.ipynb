{
 "cells": [
  {
   "cell_type": "markdown",
   "metadata": {
    "collapsed": true
   },
   "source": [
    "<style>\n",
    "@import url('https://fonts.googleapis.com/css?family=Poiret+One');\n",
    "body {\n",
    "    font-family: 'Poiret One', cursive;\n",
    "}\n",
    "</style> \n",
    "\n",
    "# Compte rendu de TP \n",
    "Séance du vendredi 12 octobre"
   ]
  },
  {
   "cell_type": "markdown",
   "metadata": {},
   "source": [
    "Style de la page"
   ]
  },
  {
   "cell_type": "markdown",
   "metadata": {},
   "source": [
    "Style de la page"
   ]
  },
  {
   "cell_type": "code",
   "execution_count": 21,
   "metadata": {},
   "outputs": [
    {
     "data": {
      "text/html": [
       "<style>\n",
       "@import url('https://fonts.googleapis.com/css?family=Poiret+One');\n",
       "body {\n",
       "    font-family: 'Poiret One', cursive;\n",
       "}\n",
       "</style>  "
      ],
      "text/plain": [
       "<style>\n",
       "@import url('https://fonts.googleapis.com/css?family=Poiret+One');\n",
       "body {\n",
       "    font-family: 'Poiret One', cursive;\n",
       "}\n",
       "</style>  "
      ]
     },
     "execution_count": 0,
     "metadata": {},
     "output_type": "execute_result"
    }
   ],
   "source": [
    "%%html\n",
    "<style>\n",
    "@import url('https://fonts.googleapis.com/css?family=Poiret+One');\n",
    "body {\n",
    "    font-family: 'Poiret One', cursive;\n",
    "}\n",
    "</style>  \n"
   ]
  }
 ],
 "metadata": {
  "kernelspec": {
   "display_name": "Python 2",
   "language": "python",
   "name": "python2"
  },
  "language_info": {
   "codemirror_mode": {
    "name": "ipython",
    "version": 2
   },
   "file_extension": ".py",
   "mimetype": "text/x-python",
   "name": "python",
   "nbconvert_exporter": "python",
   "pygments_lexer": "ipython2",
   "version": "2.7.6"
  }
 },
 "nbformat": 4,
 "nbformat_minor": 0
}
