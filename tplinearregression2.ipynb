{
 "cells": [
  {
   "cell_type": "markdown",
   "metadata": {},
   "source": [
    "# Compte rendu de TP <br/>\n",
    "Régression linéaire\n",
    "\n",
    "## Rappel des rèlges de notation\n",
    "\n",
    "Le TP de chaque étudiant sera évalué via la plateforme “Classgrade”. Pour cela, vous devez déposer\n",
    "un unique fichier anonymisé (votre nom doit apparaître uniquement dans le nom du fichier lui-même)\n",
    "sous format ipynb sur le site http://peergrade.enst.fr/.<br/>\n",
    "Vous devez **charger votre fichier, avant le jeudi 18/09/2018, 23h59**. Entre le vendredi 19/09/2018 et\n",
    "**le vendredi 26/09/2018, 23h59, vous devrez noter 2 copies** qui vous seront assignées anonymement, en\n",
    "tenant compte du barème suivant pour chaque question du TP :\n",
    " * 0 (manquant/ non compris/ non fait/ insuffisant)\n",
    " * 1 (passable/partiellement satisfaisant)\n",
    " * 2 (bien)\n",
    " \n",
    "Ensuite, il faudra également évaluer de la même manière les points suivants (qui correspondent à 3\n",
    "questions supplémentaires) :\n",
    " * aspect global de présentation : qualité de rédaction, orthographe, présentation, graphes, titres,\n",
    "etc...\n",
    " * aspect global du code : indentation, Style PEP8, lisibilité du code, commentaires adaptés\n",
    " * Point particulier : absence de bug sur votre machine\n",
    " \n",
    "Des commentaires pourront être ajoutés question par question si vous en sentez le besoin ou l’utilité pour\n",
    "aider la personne notée à s’améliorer, et de manière obligatoire si vous ne mettez pas 2/2 à une question.\n",
    "**Enfin, veillez à rester polis et courtois dans vos retours.**\n",
    "\n",
    "## Exercice:\n",
    "\n",
    "### Sujet\n",
    "\n",
    "(Analyse de la base de données “investment data”) La lecture d’un tutoriel\n",
    "pandas pourra être utile : http://pandas.pydata.org/pandas-docs/stable/tutorials.html.\n",
    "Nous travaillons sur la base de données Investment Data Set 1 qui peut être téléchargée depuis\n",
    "https://bitbucket.org/portierf/shared_files/downloads/invest.txt.<br/> Avant de commencer, on\n",
    "réalisera l’exercice 12 du polycopié : ”explicit formulas when p “ 1 for prediction intervals\", se trouvant\n",
    "dans le chapitre 3 : “Confidence intervals and hypothesis testing”. On pourra aussi lire la section 3.1.1 de\n",
    "ce même chapitre du polycopié."
   ]
  },
  {
   "cell_type": "code",
   "execution_count": 147,
   "metadata": {},
   "outputs": [],
   "source": [
    "#Cellule d'import \n",
    "\n",
    "#pandas\n",
    "import pandas as pd\n",
    "#graph\n",
    "import matplotlib.pyplot as plt\n",
    "import numpy as np\n",
    "import math"
   ]
  },
  {
   "cell_type": "markdown",
   "metadata": {},
   "source": [
    "### Question 1\n",
    "\n",
    "Importer la base de données “invest.txt” et l’afficher dans une forme lisible, e.g. une table contenant\n",
    "les 5 premières observations."
   ]
  },
  {
   "cell_type": "code",
   "execution_count": 148,
   "metadata": {},
   "outputs": [
    {
     "name": "stdout",
     "output_type": "stream",
     "text": [
      "   year     gnp  invest     cpi  interest\n",
      "0  1968   873.4   133.3   82.54      5.16\n",
      "1  1969   944.0   149.3   86.79      5.87\n",
      "2  1970   992.7   144.2   91.45      5.95\n",
      "3  1971  1077.6   166.4   96.01      4.88\n",
      "4  1972  1185.9   195.0  100.00      4.50\n"
     ]
    }
   ],
   "source": [
    "investDF = pd.read_csv(\"https://bitbucket.org/portierf/shared_files/downloads/invest.txt\", header=0,sep=\" \")\n",
    "print(investDF.head())"
   ]
  },
  {
   "cell_type": "code",
   "execution_count": 149,
   "metadata": {},
   "outputs": [
    {
     "data": {
      "text/html": [
       "<div>\n",
       "<style scoped>\n",
       "    .dataframe tbody tr th:only-of-type {\n",
       "        vertical-align: middle;\n",
       "    }\n",
       "\n",
       "    .dataframe tbody tr th {\n",
       "        vertical-align: top;\n",
       "    }\n",
       "\n",
       "    .dataframe thead th {\n",
       "        text-align: right;\n",
       "    }\n",
       "</style>\n",
       "<table border=\"1\" class=\"dataframe\">\n",
       "  <thead>\n",
       "    <tr style=\"text-align: right;\">\n",
       "      <th></th>\n",
       "      <th>year</th>\n",
       "      <th>gnp</th>\n",
       "      <th>invest</th>\n",
       "      <th>cpi</th>\n",
       "      <th>interest</th>\n",
       "    </tr>\n",
       "  </thead>\n",
       "  <tbody>\n",
       "    <tr>\n",
       "      <th>count</th>\n",
       "      <td>15.000000</td>\n",
       "      <td>15.000000</td>\n",
       "      <td>15.000000</td>\n",
       "      <td>15.000000</td>\n",
       "      <td>15.000000</td>\n",
       "    </tr>\n",
       "    <tr>\n",
       "      <th>mean</th>\n",
       "      <td>1975.000000</td>\n",
       "      <td>1748.646667</td>\n",
       "      <td>276.006667</td>\n",
       "      <td>131.401333</td>\n",
       "      <td>7.452667</td>\n",
       "    </tr>\n",
       "    <tr>\n",
       "      <th>std</th>\n",
       "      <td>4.472136</td>\n",
       "      <td>738.145808</td>\n",
       "      <td>117.582691</td>\n",
       "      <td>40.286606</td>\n",
       "      <td>2.812245</td>\n",
       "    </tr>\n",
       "    <tr>\n",
       "      <th>min</th>\n",
       "      <td>1968.000000</td>\n",
       "      <td>873.400000</td>\n",
       "      <td>133.300000</td>\n",
       "      <td>82.540000</td>\n",
       "      <td>4.500000</td>\n",
       "    </tr>\n",
       "    <tr>\n",
       "      <th>25%</th>\n",
       "      <td>1971.500000</td>\n",
       "      <td>1131.750000</td>\n",
       "      <td>180.700000</td>\n",
       "      <td>98.005000</td>\n",
       "      <td>5.480000</td>\n",
       "    </tr>\n",
       "    <tr>\n",
       "      <th>50%</th>\n",
       "      <td>1975.000000</td>\n",
       "      <td>1549.200000</td>\n",
       "      <td>229.800000</td>\n",
       "      <td>125.790000</td>\n",
       "      <td>6.250000</td>\n",
       "    </tr>\n",
       "    <tr>\n",
       "      <th>75%</th>\n",
       "      <td>1978.500000</td>\n",
       "      <td>2290.850000</td>\n",
       "      <td>394.450000</td>\n",
       "      <td>156.920000</td>\n",
       "      <td>9.055000</td>\n",
       "    </tr>\n",
       "    <tr>\n",
       "      <th>max</th>\n",
       "      <td>1982.000000</td>\n",
       "      <td>3057.500000</td>\n",
       "      <td>471.500000</td>\n",
       "      <td>207.230000</td>\n",
       "      <td>13.420000</td>\n",
       "    </tr>\n",
       "  </tbody>\n",
       "</table>\n",
       "</div>"
      ],
      "text/plain": [
       "              year          gnp      invest         cpi   interest\n",
       "count    15.000000    15.000000   15.000000   15.000000  15.000000\n",
       "mean   1975.000000  1748.646667  276.006667  131.401333   7.452667\n",
       "std       4.472136   738.145808  117.582691   40.286606   2.812245\n",
       "min    1968.000000   873.400000  133.300000   82.540000   4.500000\n",
       "25%    1971.500000  1131.750000  180.700000   98.005000   5.480000\n",
       "50%    1975.000000  1549.200000  229.800000  125.790000   6.250000\n",
       "75%    1978.500000  2290.850000  394.450000  156.920000   9.055000\n",
       "max    1982.000000  3057.500000  471.500000  207.230000  13.420000"
      ]
     },
     "execution_count": 149,
     "metadata": {},
     "output_type": "execute_result"
    }
   ],
   "source": [
    "#Petit apperçu des données\n",
    "investDF.describe(include='all')      "
   ]
  },
  {
   "cell_type": "markdown",
   "metadata": {},
   "source": [
    "### Question 2\n",
    "\n",
    "Réaliser le graph suivant : la variable “Gross National Product” (GNP, column “gnp”) est en abscisse\n",
    "et la variable “Investment” (column “invest”) est en ordonnée. Transformer les 2 variables précédentes\n",
    "en échelle logarithmique. Nous travaillerons désormais avec les 2 nouvelles variables."
   ]
  },
  {
   "cell_type": "code",
   "execution_count": 150,
   "metadata": {},
   "outputs": [],
   "source": [
    "# Changement d'echelle\n",
    "investDF['invest']= investDF.invest.apply(lambda x: math.log(x))\n",
    "investDF['gnp']= investDF.gnp.apply(lambda x: math.log(x))"
   ]
  },
  {
   "cell_type": "code",
   "execution_count": 151,
   "metadata": {},
   "outputs": [
    {
     "data": {
      "image/png": "[encoded data removed]",
      "text/plain": [
       "<Figure size 432x288 with 1 Axes>"
      ]
     },
     "metadata": {
      "needs_background": "light"
     },
     "output_type": "display_data"
    }
   ],
   "source": [
    "plt.plot(investDF.gnp,investDF.invest)\n",
    "plt.xlabel('Gross National Produc')\n",
    "plt.ylabel('Investment')\n",
    "plt.show()"
   ]
  },
  {
   "cell_type": "markdown",
   "metadata": {},
   "source": [
    "NOTE : Lorsque l’on traite des données monétaires, on travaille souvent en échelle logarithmique (pour\n",
    "prendre en compte les différences d’échelle).\n",
    "\n",
    "### Question 3\n",
    "\n",
    "Pour la régression de ”Investment” (variable à expliquer, output) sur ”GNP” (variable explicative,\n",
    "covariable), estimer l’intercept et la pente, leurs écart-types, ainsi que le coefficient de détermination.\n",
    "Les afficher dans une forme lisible. Dans la suite le vecteur contenant l’intercept et la pente est noté\n",
    "θˆ\n",
    "n P R\n",
    "2\n",
    "."
   ]
  },
  {
   "cell_type": "code",
   "execution_count": 155,
   "metadata": {},
   "outputs": [
    {
     "name": "stdout",
     "output_type": "stream",
     "text": [
      "beta1 estimé = 1.015281401598871 (correspond à la pente)\n",
      "beta0 estimé =-1.9635913352301815 (correspond à l'intercept)\n",
      "Le coéficient de determination vaut 0.9627572956057854\n",
      "0.08761471654613977\n",
      "L'écart type de beta0 vaut 0.4095472716623086\n",
      "L'écart type de beta1 vaut 0.055383060354852874\n"
     ]
    }
   ],
   "source": [
    "n=investDF.shape[0]\n",
    "Ymean=investDF.invest.mean() \n",
    "Xtildemean=investDF.gnp.mean() \n",
    "\n",
    "Xtilde=np.array(investDF.gnp.values)\n",
    "Y=np.array(investDF.invest.values)\n",
    "\n",
    "#Calcul de ma pente\n",
    "beta1=np.dot(np.transpose(Xtilde-Xtildemean),(Y-Ymean))/np.dot(np.transpose(Xtilde-Xtildemean),(Xtilde-Xtildemean))\n",
    "print('beta1 estimé = '+ str(beta1)+\" (correspond à la pente)\")\n",
    "\n",
    "#Calcul de l'intercept\n",
    "beta0=Ymean - beta1 * Xtildemean\n",
    "print('beta0 estimé =' + str(beta0)+\" (correspond à l'intercept)\")\n",
    "\n",
    "\n",
    "\n",
    "#Calcul du coefficient de determination\n",
    "Yestime=beta0+beta1*Xtilde\n",
    "Rsquare=(np.dot(np.transpose(Yestime-Ymean),Yestime-Ymean)/np.dot(np.transpose(Y-Ymean),Y-Ymean))\n",
    "print(\"Le coéficient de determination vaut \"+str(Rsquare))\n",
    "\n",
    "Testime=np.array([beta0,beta1])\n",
    "\n",
    "# Calcul de sigma estime\n",
    "from numpy.linalg import matrix_rank\n",
    "X=np.array([np.ones(n),Xtilde])\n",
    "sigma_estime=np.sqrt(np.dot(np.transpose(Y-np.dot(np.transpose(X),Testime)),Y-np.dot(np.transpose(X),Testime))/(n-matrix_rank(X)))\n",
    "\n",
    "\n",
    "#Calculs des ecarts types\n",
    "Vbeta0=(sigma_estime**2)*((1/n)+(Xtildemean*Xtildemean/np.dot(np.transpose(Xtilde-Xtildemean),Xtilde-Xtildemean)))\n",
    "Vbeta1=(sigma_estime**2)*((1/np.dot(np.transpose(Xtilde-Xtildemean),Xtilde-Xtildemean)))\n",
    "\n",
    "print(\"L'écart type de beta0 vaut \"+str(np.sqrt(Vbeta0)))\n",
    "print(\"L'écart type de beta1 vaut \"+str(np.sqrt(Vbeta1)))"
   ]
  },
  {
   "cell_type": "markdown",
   "metadata": {},
   "source": [
    "### Question 4\n",
    "\n",
    "La pente estimée précédemment est-elle statistiquement significative ? On fera un test de student\n",
    "(t-test). Donner la valeur de la statistique de test ainsi que la p-valeur.\n",
    "\n",
    "On pose l'hypothese que la pente estimée n'est pas statistiquement significative soit beta1 = 0"
   ]
  },
  {
   "cell_type": "code",
   "execution_count": 157,
   "metadata": {},
   "outputs": [
    {
     "name": "stdout",
     "output_type": "stream",
     "text": [
      "18.331984456866657\n",
      "La p-value vaut :1.1363709973011282e-10\n"
     ]
    }
   ],
   "source": [
    "from scipy import stats as scs\n",
    "\n",
    "Tj= beta1/(np.sqrt(Vbeta1))\n",
    "print(Tj)\n",
    "\n",
    "p = matrix_rank(X)*(1-scs.t.cdf(Tj, X.shape[1] - matrix_rank(X)))\n",
    "print('La p-value vaut :'+str(p))"
   ]
  },
  {
   "cell_type": "markdown",
   "metadata": {},
   "source": [
    "A partir de la pvalue on peut rejeter l'hypothese H0"
   ]
  },
  {
   "cell_type": "code",
   "execution_count": null,
   "metadata": {},
   "outputs": [],
   "source": []
  },
  {
   "cell_type": "code",
   "execution_count": 108,
   "metadata": {},
   "outputs": [],
   "source": [
    "X=np.array([np.ones(n),Xtilde])"
   ]
  },
  {
   "cell_type": "code",
   "execution_count": 138,
   "metadata": {},
   "outputs": [
    {
     "data": {
      "text/plain": [
       "2"
      ]
     },
     "execution_count": 138,
     "metadata": {},
     "output_type": "execute_result"
    }
   ],
   "source": [
    "len(X\n",
    ")"
   ]
  },
  {
   "cell_type": "code",
   "execution_count": 112,
   "metadata": {},
   "outputs": [
    {
     "data": {
      "text/plain": [
       "array([4.91229397, 4.99121436, 5.04228539, 5.12560255, 5.22283162,\n",
       "       5.33650915, 5.41584191, 5.49415206, 5.59915465, 5.71111841,\n",
       "       5.83343218, 5.94607347, 6.03268086, 6.14381874, 6.18440017])"
      ]
     },
     "execution_count": 112,
     "metadata": {},
     "output_type": "execute_result"
    }
   ],
   "source": [
    "np.dot(np.transpose(X),Testime)"
   ]
  },
  {
   "cell_type": "code",
   "execution_count": 111,
   "metadata": {},
   "outputs": [
    {
     "data": {
      "text/plain": [
       "array([[1.        , 6.77239364],\n",
       "       [1.        , 6.85012617],\n",
       "       [1.        , 6.9004285 ],\n",
       "       [1.        , 6.98249163],\n",
       "       [1.        , 7.07825726],\n",
       "       [1.        , 7.19022378],\n",
       "       [1.        , 7.26836248],\n",
       "       [1.        , 7.34549395],\n",
       "       [1.        , 7.4489161 ],\n",
       "       [1.        , 7.55919466],\n",
       "       [1.        , 7.67966743],\n",
       "       [1.        , 7.79061331],\n",
       "       [1.        , 7.87591714],\n",
       "       [1.        , 7.98538224],\n",
       "       [1.        , 8.02535287]])"
      ]
     },
     "execution_count": 111,
     "metadata": {},
     "output_type": "execute_result"
    }
   ],
   "source": [
    "np.transpose(X)"
   ]
  }
 ],
 "metadata": {
  "kernelspec": {
   "display_name": "Python 3",
   "language": "python",
   "name": "python3"
  },
  "language_info": {
   "codemirror_mode": {
    "name": "ipython",
    "version": 3
   },
   "file_extension": ".py",
   "mimetype": "text/x-python",
   "name": "python",
   "nbconvert_exporter": "python",
   "pygments_lexer": "ipython3",
   "version": "3.6.6"
  }
 },
 "nbformat": 4,
 "nbformat_minor": 2
}
