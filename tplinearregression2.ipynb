{
 "cells": [
  {
   "cell_type": "markdown",
   "metadata": {},
   "source": [
    "# Compte rendu de TP <br/>\n",
    "Régression linéaire\n",
    "\n",
    "## Rappel des rèlges de notation\n",
    "\n",
    "Le TP de chaque étudiant sera évalué via la plateforme “Classgrade”. Pour cela, vous devez déposer\n",
    "un unique fichier anonymisé (votre nom doit apparaître uniquement dans le nom du fichier lui-même)\n",
    "sous format ipynb sur le site http://peergrade.enst.fr/.<br/>\n",
    "Vous devez **charger votre fichier, avant le jeudi 18/09/2018, 23h59**. Entre le vendredi 19/09/2018 et\n",
    "**le vendredi 26/09/2018, 23h59, vous devrez noter 2 copies** qui vous seront assignées anonymement, en\n",
    "tenant compte du barème suivant pour chaque question du TP :\n",
    " * 0 (manquant/ non compris/ non fait/ insuffisant)\n",
    " * 1 (passable/partiellement satisfaisant)\n",
    " * 2 (bien)\n",
    " \n",
    "Ensuite, il faudra également évaluer de la même manière les points suivants (qui correspondent à 3\n",
    "questions supplémentaires) :\n",
    " * aspect global de présentation : qualité de rédaction, orthographe, présentation, graphes, titres,\n",
    "etc...\n",
    " * aspect global du code : indentation, Style PEP8, lisibilité du code, commentaires adaptés\n",
    " * Point particulier : absence de bug sur votre machine\n",
    " \n",
    "Des commentaires pourront être ajoutés question par question si vous en sentez le besoin ou l’utilité pour\n",
    "aider la personne notée à s’améliorer, et de manière obligatoire si vous ne mettez pas 2/2 à une question.\n",
    "**Enfin, veillez à rester polis et courtois dans vos retours.**\n",
    "\n",
    "## Exercice:\n",
    "\n",
    "### Sujet\n",
    "\n",
    "(Analyse de la base de données “investment data”) La lecture d’un tutoriel\n",
    "pandas pourra être utile : http://pandas.pydata.org/pandas-docs/stable/tutorials.html.\n",
    "Nous travaillons sur la base de données Investment Data Set 1 qui peut être téléchargée depuis\n",
    "https://bitbucket.org/portierf/shared_files/downloads/invest.txt.<br/> Avant de commencer, on\n",
    "réalisera l’exercice 12 du polycopié : ”explicit formulas when p “ 1 for prediction intervals\", se trouvant\n",
    "dans le chapitre 3 : “Confidence intervals and hypothesis testing”. On pourra aussi lire la section 3.1.1 de\n",
    "ce même chapitre du polycopié."
   ]
  },
  {
   "cell_type": "code",
   "execution_count": 58,
   "metadata": {},
   "outputs": [],
   "source": [
    "#Cellule d'import \n",
    "\n",
    "#pandas\n",
    "import pandas as pd\n",
    "#graph'\n",
    "import numpy as np\n",
    "import math\n",
    "import plotly.plotly as py\n",
    "import plotly.graph_objs as go"
   ]
  },
  {
   "cell_type": "markdown",
   "metadata": {},
   "source": [
    "### Question 1\n",
    "\n",
    "Importer la base de données “invest.txt” et l’afficher dans une forme lisible, e.g. une table contenant\n",
    "les 5 premières observations.\n"
   ]
  },
  {
   "cell_type": "code",
   "execution_count": 59,
   "metadata": {},
   "outputs": [
    {
     "name": "stdout",
     "output_type": "stream",
     "text": [
      "   year     gnp  invest     cpi  interest\n",
      "0  1968   873.4   133.3   82.54      5.16\n",
      "1  1969   944.0   149.3   86.79      5.87\n",
      "2  1970   992.7   144.2   91.45      5.95\n",
      "3  1971  1077.6   166.4   96.01      4.88\n",
      "4  1972  1185.9   195.0  100.00      4.50\n"
     ]
    }
   ],
   "source": [
    "investDF = pd.read_csv(\"https://bitbucket.org/portierf/shared_files/downloads/invest.txt\", header=0,sep=\" \")\n",
    "print(investDF.head())"
   ]
  },
  {
   "cell_type": "code",
   "execution_count": 60,
   "metadata": {},
   "outputs": [
    {
     "data": {
      "text/html": [
       "<div>\n",
       "<style scoped>\n",
       "    .dataframe tbody tr th:only-of-type {\n",
       "        vertical-align: middle;\n",
       "    }\n",
       "\n",
       "    .dataframe tbody tr th {\n",
       "        vertical-align: top;\n",
       "    }\n",
       "\n",
       "    .dataframe thead th {\n",
       "        text-align: right;\n",
       "    }\n",
       "</style>\n",
       "<table border=\"1\" class=\"dataframe\">\n",
       "  <thead>\n",
       "    <tr style=\"text-align: right;\">\n",
       "      <th></th>\n",
       "      <th>year</th>\n",
       "      <th>gnp</th>\n",
       "      <th>invest</th>\n",
       "      <th>cpi</th>\n",
       "      <th>interest</th>\n",
       "    </tr>\n",
       "  </thead>\n",
       "  <tbody>\n",
       "    <tr>\n",
       "      <th>count</th>\n",
       "      <td>15.000000</td>\n",
       "      <td>15.000000</td>\n",
       "      <td>15.000000</td>\n",
       "      <td>15.000000</td>\n",
       "      <td>15.000000</td>\n",
       "    </tr>\n",
       "    <tr>\n",
       "      <th>mean</th>\n",
       "      <td>1975.000000</td>\n",
       "      <td>1748.646667</td>\n",
       "      <td>276.006667</td>\n",
       "      <td>131.401333</td>\n",
       "      <td>7.452667</td>\n",
       "    </tr>\n",
       "    <tr>\n",
       "      <th>std</th>\n",
       "      <td>4.472136</td>\n",
       "      <td>738.145808</td>\n",
       "      <td>117.582691</td>\n",
       "      <td>40.286606</td>\n",
       "      <td>2.812245</td>\n",
       "    </tr>\n",
       "    <tr>\n",
       "      <th>min</th>\n",
       "      <td>1968.000000</td>\n",
       "      <td>873.400000</td>\n",
       "      <td>133.300000</td>\n",
       "      <td>82.540000</td>\n",
       "      <td>4.500000</td>\n",
       "    </tr>\n",
       "    <tr>\n",
       "      <th>25%</th>\n",
       "      <td>1971.500000</td>\n",
       "      <td>1131.750000</td>\n",
       "      <td>180.700000</td>\n",
       "      <td>98.005000</td>\n",
       "      <td>5.480000</td>\n",
       "    </tr>\n",
       "    <tr>\n",
       "      <th>50%</th>\n",
       "      <td>1975.000000</td>\n",
       "      <td>1549.200000</td>\n",
       "      <td>229.800000</td>\n",
       "      <td>125.790000</td>\n",
       "      <td>6.250000</td>\n",
       "    </tr>\n",
       "    <tr>\n",
       "      <th>75%</th>\n",
       "      <td>1978.500000</td>\n",
       "      <td>2290.850000</td>\n",
       "      <td>394.450000</td>\n",
       "      <td>156.920000</td>\n",
       "      <td>9.055000</td>\n",
       "    </tr>\n",
       "    <tr>\n",
       "      <th>max</th>\n",
       "      <td>1982.000000</td>\n",
       "      <td>3057.500000</td>\n",
       "      <td>471.500000</td>\n",
       "      <td>207.230000</td>\n",
       "      <td>13.420000</td>\n",
       "    </tr>\n",
       "  </tbody>\n",
       "</table>\n",
       "</div>"
      ],
      "text/plain": [
       "              year          gnp      invest         cpi   interest\n",
       "count    15.000000    15.000000   15.000000   15.000000  15.000000\n",
       "mean   1975.000000  1748.646667  276.006667  131.401333   7.452667\n",
       "std       4.472136   738.145808  117.582691   40.286606   2.812245\n",
       "min    1968.000000   873.400000  133.300000   82.540000   4.500000\n",
       "25%    1971.500000  1131.750000  180.700000   98.005000   5.480000\n",
       "50%    1975.000000  1549.200000  229.800000  125.790000   6.250000\n",
       "75%    1978.500000  2290.850000  394.450000  156.920000   9.055000\n",
       "max    1982.000000  3057.500000  471.500000  207.230000  13.420000"
      ]
     },
     "execution_count": 60,
     "metadata": {},
     "output_type": "execute_result"
    }
   ],
   "source": [
    "#Petit apperçu des données\n",
    "investDF.describe(include='all')      "
   ]
  },
  {
   "cell_type": "markdown",
   "metadata": {},
   "source": [
    "### Question 2\n",
    "\n",
    "Réaliser le graph suivant : la variable “Gross National Product” (GNP, column “gnp”) est en abscisse\n",
    "et la variable “Investment” (column “invest”) est en ordonnée. Transformer les 2 variables précédentes\n",
    "en échelle logarithmique. Nous travaillerons désormais avec les 2 nouvelles variables."
   ]
  },
  {
   "cell_type": "code",
   "execution_count": 61,
   "metadata": {},
   "outputs": [],
   "source": [
    "# Changement d'echelle\n",
    "investDF['invest']= investDF.invest.apply(lambda x: math.log(x))\n",
    "investDF['gnp']= investDF.gnp.apply(lambda x: math.log(x))"
   ]
  },
  {
   "cell_type": "code",
   "execution_count": 62,
   "metadata": {
    "collapsed": false
   },
   "outputs": [
    {
     "data": {
      "text/html": [
       "<iframe id=\"igraph\" scrolling=\"no\" style=\"border:none;\" seamless=\"seamless\" src=\"https://plot.ly/~therondcharles/4.embed\" height=\"525px\" width=\"100%\"></iframe>"
      ],
      "text/plain": [
       "<plotly.tools.PlotlyDisplay object>"
      ]
     },
     "execution_count": 62,
     "metadata": {},
     "output_type": "execute_result"
    }
   ],
   "source": [
    "data = [go.Scatter(x=investDF.gnp,\n",
    "               y=investDF.invest)]\n",
    "layout = go.Layout(title=\"Evolution of Investment depending on Gross National Produc\",\n",
    "                   yaxis=dict(title='Investment (log)'),\n",
    "                   xaxis=dict(title='Gross National Produict (log)'))\n",
    "fig = go.Figure(data=data, layout=layout)\n",
    "\n",
    "py.iplot(fig, filename='jupyter-basic_bar')"
   ]
  },
  {
   "cell_type": "code",
   "execution_count": 63,
   "metadata": {},
   "outputs": [],
   "source": [
    "# Si affichage ci-dessus non fonctionnel\n",
    "#plt.plot(investDF.gnp,investDF.invest)\n",
    "#plt.xlabel('Gross National Produc')\n",
    "#plt.ylabel('Investment')\n",
    "#plt.show()"
   ]
  },
  {
   "cell_type": "markdown",
   "metadata": {},
   "source": [
    "NOTE : Lorsque l’on traite des données monétaires, on travaille souvent en échelle logarithmique (pour\n",
    "prendre en compte les différences d’échelle).\n",
    "\n",
    "### Question 3\n",
    "\n",
    "Pour la régression de ”Investment” (variable à expliquer, output) sur ”GNP” (variable explicative,\n",
    "covariable), estimer l’intercept et la pente, leurs écart-types, ainsi que le coefficient de détermination.\n",
    "Les afficher dans une forme lisible. Dans la suite le vecteur contenant l’intercept et la pente est noté $\\hat{\\theta_n}$\n"
   ]
  },
  {
   "cell_type": "code",
   "execution_count": 64,
   "metadata": {},
   "outputs": [
    {
     "name": "stdout",
     "output_type": "stream",
     "text": [
      "beta1 estimé = 1.015281401598871 (correspond à la pente)\n",
      "beta0 estimé =-1.9635913352301815 (correspond à l'intercept)\n",
      "Le coéficient de determination vaut 0.9627572956057854\n",
      "L'écart type de beta0 vaut 0.4095472716623086\n",
      "L'écart type de beta1 vaut 0.055383060354852874\n"
     ]
    }
   ],
   "source": [
    "n=investDF.shape[0]\n",
    "Ymean=investDF.invest.mean() \n",
    "Xtildemean=investDF.gnp.mean() \n",
    "\n",
    "Xtilde=np.array(investDF.gnp.values)\n",
    "Y=np.array(investDF.invest.values)\n",
    "\n",
    "#Calcul de ma pente\n",
    "beta1=np.dot(np.transpose(Xtilde-Xtildemean),(Y-Ymean))/np.dot(np.transpose(Xtilde-Xtildemean),(Xtilde-Xtildemean))\n",
    "print('beta1 estimé = '+ str(beta1)+\" (correspond à la pente)\")\n",
    "\n",
    "#Calcul de l'intercept\n",
    "beta0=Ymean - beta1 * Xtildemean\n",
    "print('beta0 estimé =' + str(beta0)+\" (correspond à l'intercept)\")\n",
    "\n",
    "\n",
    "\n",
    "#Calcul du coefficient de determination\n",
    "Yestime=beta0+beta1*Xtilde\n",
    "Rsquare=(np.dot(np.transpose(Yestime-Ymean),Yestime-Ymean)/np.dot(np.transpose(Y-Ymean),Y-Ymean))\n",
    "print(\"Le coéficient de determination vaut \"+str(Rsquare))\n",
    "\n",
    "Testime=np.array([beta0,beta1])\n",
    "\n",
    "# Calcul de sigma estime\n",
    "from numpy.linalg import matrix_rank\n",
    "X=np.array([np.ones(n),Xtilde]).T\n",
    "sigma_estime=np.sqrt(np.dot(np.transpose(Y-np.dot(X,Testime)),Y-np.dot(X,Testime))/(n-matrix_rank(X)))\n",
    "\n",
    "\n",
    "#Calculs des ecarts types\n",
    "Vbeta0=(sigma_estime**2)*((1/n)+(Xtildemean*Xtildemean/np.dot(np.transpose(Xtilde-Xtildemean),Xtilde-Xtildemean)))\n",
    "Vbeta1=(sigma_estime**2)*((1/np.dot(np.transpose(Xtilde-Xtildemean),Xtilde-Xtildemean)))\n",
    "\n",
    "print(\"L'écart type de beta0 vaut \"+str(np.sqrt(Vbeta0)))\n",
    "print(\"L'écart type de beta1 vaut \"+str(np.sqrt(Vbeta1)))"
   ]
  },
  {
   "cell_type": "code",
   "execution_count": 65,
   "metadata": {},
   "outputs": [
    {
     "data": {
      "text/html": [
       "<iframe id=\"igraph\" scrolling=\"no\" style=\"border:none;\" seamless=\"seamless\" src=\"https://plot.ly/~therondcharles/4.embed\" height=\"525px\" width=\"100%\"></iframe>"
      ],
      "text/plain": [
       "<plotly.tools.PlotlyDisplay object>"
      ]
     },
     "execution_count": 65,
     "metadata": {},
     "output_type": "execute_result"
    }
   ],
   "source": [
    "trace1=go.Scatter(x=investDF.gnp,\n",
    "            y=investDF.invest,\n",
    "            name=\"Original\")\n",
    "trace2=go.Scatter(x=Xtilde,\n",
    "            y=Yestime,\n",
    "            name=\"Estimé\")\n",
    "\n",
    "data = [trace1,trace2]\n",
    "#type='log',autorange=True\n",
    "layout = go.Layout(title=\"Estimation VS Realité\",\n",
    "                   yaxis=dict(title='Investment (log)'),\n",
    "                   xaxis=dict(title='Gross National Produict (log)'))\n",
    "fig = go.Figure(data=data, layout=layout)\n",
    "\n",
    "py.iplot(fig, filename='jupyter-basic_bar')"
   ]
  },
  {
   "cell_type": "markdown",
   "metadata": {},
   "source": [
    "### Question 4\n",
    "\n",
    "La pente estimée précédemment est-elle statistiquement significative ? On fera un test de student\n",
    "(t-test). Donner la valeur de la statistique de test ainsi que la p-valeur.\n",
    "\n",
    "On pose $H_0$ l'hypothese que la pente estimée n'est pas statistiquement significative soit $\\beta_1 = 0$ <br/>\n",
    "Des lors l'hypothèse alternative peut etre défini comme $H_1 \\Rightarrow \\beta_1 \\ne 0$"
   ]
  },
  {
   "cell_type": "code",
   "execution_count": 66,
   "metadata": {},
   "outputs": [
    {
     "name": "stdout",
     "output_type": "stream",
     "text": [
      "La p-value vaut :1.1363709973011282e-10\n"
     ]
    }
   ],
   "source": [
    "from scipy import stats as scs\n",
    "Tj= beta1/(np.sqrt(Vbeta1))\n",
    "p = matrix_rank(X)*(1-scs.t.cdf(Tj, X.shape[0] - matrix_rank(X)))\n",
    "print('La p-value vaut :'+str(p))"
   ]
  },
  {
   "cell_type": "markdown",
   "metadata": {},
   "source": [
    "A partir de la $p-value$ on peut rejeter l'hypothese $H_0$"
   ]
  },
  {
   "cell_type": "markdown",
   "metadata": {},
   "source": [
    "### Question 5\n",
    "Pour GNP égal à 1000, estimer l’investissement prédit par le modèle. Pour GNP égal à 1000, donner l’intervalle de confiance pour la valeur prédite et l’intervalle de confiance pour la variable à expliquer “Investment”, au niveau 90%. On pourra se référer à la section 3.1.3 “Confidence intervals for the predicted values” du polycopié dans laquelle chaque intervalle est défini, $CI(x)$ et $PI(x)$, respectivement (avec les notations du polycopié, $x=(1, 1000)^T$ )"
   ]
  },
  {
   "cell_type": "code",
   "execution_count": 67,
   "metadata": {},
   "outputs": [
    {
     "name": "stdout",
     "output_type": "stream",
     "text": [
      "Pour GNP égal à 1000 l’investissement prédit ( en réel ) vaut 155.97942793105494\n",
      "Pour GNP égal à 1000 l’investissement prédit ( en log ) vaut 5.049724126316802\n"
     ]
    }
   ],
   "source": [
    "def predY(x,Teta):\n",
    "    XX=np.array([1]+x)\n",
    "    return np.dot(np.transpose(XX),(Teta))\n",
    "\n",
    "\n",
    "Y1000=predY([np.log(1000)],Testime)\n",
    "print(\"Pour GNP égal à 1000 l’investissement prédit ( en réel ) vaut \"+str(np.exp(Y1000)))\n",
    "print(\"Pour GNP égal à 1000 l’investissement prédit ( en log ) vaut \"+str(Y1000))"
   ]
  },
  {
   "cell_type": "markdown",
   "metadata": {},
   "source": [
    "En ayant $H_1 \\Rightarrow \\beta_1 \\ne 0$, on suppose qu'on ne peut connaitre le signe de $\\beta_1$ et nous nous trouvons dans un cas de bilatéralité"
   ]
  },
  {
   "cell_type": "code",
   "execution_count": 68,
   "metadata": {},
   "outputs": [
    {
     "name": "stdout",
     "output_type": "stream",
     "text": [
      "IC = [4.988222845971108,5.076497234228081]\n",
      "PI = [4.88282002343868,5.122381825995147]\n"
     ]
    }
   ],
   "source": [
    "import numpy as np\n",
    "from scipy.stats import norm\n",
    "def getICIP(alpha,XX,X,Teta,sig):\n",
    "    \n",
    "    x = np.array([1]+XX)\n",
    "    q = scs.t.ppf(1 - alpha/2, X.shape[0] - matrix_rank(X))\n",
    "    Cinf = np.dot(np.transpose(x),(Teta)) - sig * q * np.sqrt(np.dot(np.dot(np.transpose(x),np.linalg.inv(np.dot(np.transpose(X),X))),x))\n",
    "    Csup = np.dot(np.transpose(x),(Teta)) - sig * (1 - q) * np.sqrt(np.dot(np.dot(np.transpose(x),np.linalg.inv(np.dot(np.transpose(X),X))),x))\n",
    "    \n",
    "\n",
    "    Pinf = np.dot(np.transpose(x),(Teta)) - sig * q * np.sqrt(1+np.dot(np.dot(np.transpose(x),np.linalg.inv(np.dot(np.transpose(X),X))),x))\n",
    "    Psup = np.dot(np.transpose(x),(Teta)) - sig * (1 - q) * np.sqrt(1+np.dot(np.dot(np.transpose(x),np.linalg.inv(np.dot(np.transpose(X),X))),x))\n",
    "    \n",
    "    return Cinf,Csup,Pinf,Psup\n",
    "\n",
    "ICinf,ICsup,PIinf,PIsup=getICIP(.1,[np.log(1000)],X,Testime,sigma_estime)\n",
    "print('IC = [' + str(ICinf)+',' + str(ICsup) + ']')\n",
    "print('PI = [' + str(PIinf)+',' + str(PIsup) + ']')\n",
    "\n"
   ]
  },
  {
   "cell_type": "markdown",
   "metadata": {},
   "source": [
    "### Question 6\n",
    "Sur un graphe avec échelle logarithmique, avec GNP en abscisse et investment en ordonnée, tracer les données, la droite de régression, ainsi que les intervalle CI et PI (pour toutes les valeurs de log(GNP) comprises entre le maximum et le minimum observé sur les données)"
   ]
  },
  {
   "cell_type": "code",
   "execution_count": 69,
   "metadata": {},
   "outputs": [
    {
     "data": {
      "text/html": [
       "<iframe id=\"igraph\" scrolling=\"no\" style=\"border:none;\" seamless=\"seamless\" src=\"https://plot.ly/~therondcharles/4.embed\" height=\"525px\" width=\"100%\"></iframe>"
      ],
      "text/plain": [
       "<plotly.tools.PlotlyDisplay object>"
      ]
     },
     "execution_count": 69,
     "metadata": {},
     "output_type": "execute_result"
    }
   ],
   "source": [
    "YPRED=[]\n",
    "ICSUP=[]\n",
    "ICINF=[]\n",
    "IPSUP=[]\n",
    "IPINF=[]\n",
    "\n",
    "XX=np.linspace(Xtilde.min(), Xtilde.max(), 500)\n",
    "\n",
    "for x in XX:\n",
    "    YPRED.append(predY([x],Testime))\n",
    "    ICinf_tmp,ICsup_tmp,PIinf_tmp,PIsup_tmp=getICIP(.1,[x],X,Testime,sigma_estime)\n",
    "    ICSUP.append(ICsup_tmp)\n",
    "    ICINF.append(ICinf_tmp)\n",
    "    IPSUP.append(PIsup_tmp)\n",
    "    IPINF.append(PIinf_tmp)\n",
    "    \n",
    "\n",
    "\n",
    "trace0 = go.Scatter(\n",
    "    x=XX[0::2],\n",
    "    y=ICSUP[0::2],\n",
    "    fill='tonexty',\n",
    "    fillcolor='rgba(255, 215, 108,0.4)',\n",
    "    line=dict(color='rgba(255,255,255,0)'),\n",
    "    name='ICSUP',\n",
    "    showlegend=True,\n",
    ")\n",
    "trace00 = go.Scatter(\n",
    "    x=XX[0::2],\n",
    "    y=ICINF[0::2],\n",
    "    line=dict(color='rgba(255,255,255,0)'),\n",
    "    name='ICINF',\n",
    "    showlegend=False,\n",
    ")\n",
    "traceA = go.Scatter(\n",
    "    x=XX[1::2],\n",
    "    y=IPSUP[1::2],\n",
    "    line=dict(color='rgba(255,255,255,0)'),\n",
    "    fillcolor='rgba(0,176,246,0.2)',\n",
    "    fill='tonexty',\n",
    "    name='IPSUP',\n",
    "    showlegend=True,\n",
    ")\n",
    "traceAA = go.Scatter(\n",
    "    x=XX[1::2],\n",
    "    y=IPINF[1::2],\n",
    "    line=dict(color='rgba(255,255,255,0)'),\n",
    "    name='IPINF',\n",
    "    showlegend=False,\n",
    ")\n",
    "\n",
    "trace1=go.Scatter(x=XX,\n",
    "            y=YPRED,\n",
    "            name=\"Estimé\")\n",
    "trace2=go.Scatter(x=Xtilde,\n",
    "            y=Y,\n",
    "            name=\"Original\")\n",
    "\n",
    "data = [traceAA,traceA,trace00,trace0,trace1,trace2]\n",
    "#type='log',autorange=True\n",
    "layout = go.Layout(title=\"Estimation VS Realité\",\n",
    "                   yaxis=dict(title='Investment (log)'),\n",
    "                   xaxis=dict(title='Gross National Produict (log)'))\n",
    "fig = go.Figure(data=data, layout=layout)\n",
    "\n",
    "py.iplot(fig, filename='jupyter-basic_bar')"
   ]
  },
  {
   "cell_type": "markdown",
   "metadata": {},
   "source": [
    "### Querstion 7\n",
    "En utilisant des classes/librairies existantes, donner l’intercept, la pente, le coefficient de dé- termination ainsi que l’investissement prédit par le modèle quand GNP vaut 100. La classe **LinearRegression() de sklearn.linear_model** est suggérée mais pas obligatoire. Vérifier que les valeurs calculées ici coïncident avec celles des questions précédentes."
   ]
  },
  {
   "cell_type": "code",
   "execution_count": 70,
   "metadata": {},
   "outputs": [
    {
     "name": "stdout",
     "output_type": "stream",
     "text": [
      "Intercept des librairies : -1.9635913352301815 Intercept calculé : -1.9635913352301815\n",
      "Pente des librairies : 1.015281401598871 pente calculé : 1.015281401598871\n",
      "Coefficient de détermination des librairies : 0.9627572956057855 Coefficient de détermination calculé : 0.9627572956057854\n",
      "Y(1000) prédit des librairies : 5.049724126316802 Y(1000) prédit calculé : 5.049724126316802\n"
     ]
    }
   ],
   "source": [
    "from sklearn.linear_model import LinearRegression\n",
    "regr = LinearRegression()\n",
    "# Train the model using the training sets\n",
    "regr.fit(Xtilde.reshape(-1, 1), Y)\n",
    "\n",
    "# Make predictions using the testing set\n",
    "regr.coef_\n",
    "\n",
    "print(\"Intercept des librairies : \"+str(regr.intercept_) +\" Intercept calculé : \"+str(beta0))\n",
    "print(\"Pente des librairies : \"+str(regr.coef_[0]) +\" pente calculé : \"+str(beta1))\n",
    "print(\"Coefficient de détermination des librairies : \"+str(regr.score(Xtilde.reshape(-1, 1), Y)) +\" Coefficient de détermination calculé : \"+str(Rsquare))\n",
    "print(\"Y(1000) prédit des librairies : \"+str(regr.predict([[np.log(1000)]])[0]) +\" Y(1000) prédit calculé : \"+str(Y1000))\n"
   ]
  },
  {
   "cell_type": "markdown",
   "metadata": {},
   "source": [
    "### Question8\n",
    "Sur un graph avec échelle logarithmique, avec GNP en abscisse et investment en ordonnée, tracer les données, la droite de régression, ainsi que l’investissement prédit par le modèle quand GNP vaut 100 (on donnera à ce point une couleur différente)."
   ]
  },
  {
   "cell_type": "code",
   "execution_count": 71,
   "metadata": {},
   "outputs": [
    {
     "data": {
      "text/html": [
       "<iframe id=\"igraph\" scrolling=\"no\" style=\"border:none;\" seamless=\"seamless\" src=\"https://plot.ly/~therondcharles/4.embed\" height=\"525px\" width=\"100%\"></iframe>"
      ],
      "text/plain": [
       "<plotly.tools.PlotlyDisplay object>"
      ]
     },
     "execution_count": 71,
     "metadata": {},
     "output_type": "execute_result"
    }
   ],
   "source": [
    "\n",
    "YPREDlib=regr.predict(XX.reshape(-1, 1))\n",
    "trace1=go.Scatter(x=XX,\n",
    "            y=YPREDlib,\n",
    "            name=\"Estimé\")\n",
    "trace2=go.Scatter(x=Xtilde,\n",
    "            y=Y,\n",
    "            name=\"Original\")\n",
    "trace3=go.Scatter(x=[np.log(1000)],\n",
    "            y=regr.predict([[np.log(1000)]]),\n",
    "            mode = 'markers',\n",
    "            marker=dict(color='rgba(201, 29, 46,1)',\n",
    "                       size=15),\n",
    "            showlegend=False)\n",
    "\n",
    "data = [trace1,trace2,trace3]\n",
    "#type='log',autorange=True\n",
    "layout = go.Layout(title=\"Etude des valeurs prédites\",\n",
    "                   yaxis=dict(title='Investment (log)'),\n",
    "                   xaxis=dict(title='Gross National Produict (log)'))\n",
    "fig = go.Figure(data=data, layout=layout)\n",
    "\n",
    "py.iplot(fig, filename='jupyter-basic_bar')"
   ]
  },
  {
   "cell_type": "markdown",
   "metadata": {},
   "source": [
    "### Question 9\n",
    "Pour la régression de Investment sur GNP et interest, calculer la matrice de Gram. Est-elle de rang plein ?"
   ]
  },
  {
   "cell_type": "code",
   "execution_count": 107,
   "metadata": {},
   "outputs": [
    {
     "name": "stdout",
     "output_type": "stream",
     "text": [
      "[[ 15.         110.75282116 111.79      ]\n",
      " [110.75282116 820.24847688 839.18854302]\n",
      " [111.79       839.18854302 943.8557    ]]\n",
      "Le rang de la matrice de gram est 3\n"
     ]
    }
   ],
   "source": [
    "n=investDF.shape[0]\n",
    "X=np.array([np.ones(n),investDF.gnp,investDF.interest]).T\n",
    "Xmean=np.array([1,investDF.gnp.mean(),investDF.interest.mean()]).T\n",
    "mGram=np.dot(X.T,X)\n",
    "print(mGram)\n",
    "print(\"Le rang de la matrice de gram est \"+ str(matrix_rank(mGram)))"
   ]
  },
  {
   "cell_type": "markdown",
   "metadata": {},
   "source": [
    "La matrice de Gram est effectivement de rang plein\n",
    "\n",
    "### Question 10\n",
    "\n",
    "Pour la régression de Investment sur GNP et interest, estimer les 3 coefficients et leurs écart- types ainsi que le coefficient de détermination. En plus, faire un test de Student de significativité de chaque coefficient (donner la statistique de test et la p-valeur). Afficher les résultats dans une forme convenable. Discuter de la significativité des coefficients."
   ]
  },
  {
   "cell_type": "code",
   "execution_count": 122,
   "metadata": {},
   "outputs": [
    {
     "name": "stdout",
     "output_type": "stream",
     "text": [
      "[-2.18045473  1.05124269 -0.00652888]\n",
      "Le coéficient de determination vaut 0.9633108306727456\n",
      "0.09051205972421447\n",
      "[[ 4.38772697e-01 -6.72457405e-02  7.82053357e-03]\n",
      " [-6.72457405e-02  1.04165249e-02 -1.29683702e-03]\n",
      " [ 7.82053357e-03 -1.29683702e-03  2.35444629e-04]]\n",
      "L'écart type de beta0 vaut 0.6623991977963686\n",
      "L'écart type de beta1 vaut 0.10206137806192304\n",
      "L'écart type de beta1 vaut 0.01534420506560419\n"
     ]
    }
   ],
   "source": [
    "\n",
    "Ymean=investDF.invest.mean() \n",
    "Y=np.array(investDF.invest.values)\n",
    "\n",
    "\n",
    "TetaEstime=np.dot(np.linalg.inv(mGram),np.dot(X.T,Y))\n",
    "print(TetaEstime)\n",
    "            \n",
    "\n",
    "#Calcul du coefficient de determination\n",
    "Yestime=np.dot(X,TetaEstime)\n",
    "Rsquare=(np.dot(np.transpose(Yestime-Ymean),Yestime-Ymean)/np.dot(np.transpose(Y-Ymean),Y-Ymean))\n",
    "print(\"Le coéficient de determination vaut \"+str(Rsquare))\n",
    "\n",
    "sigma_estime=np.sqrt(np.dot(np.transpose(Y-np.dot(X,TetaEstime)),Y-np.dot(X,TetaEstime))/(n-matrix_rank(X)))\n",
    "print(sigma_estime)\n",
    "#Calculs des ecarts types\n",
    "covTeta=(sigma_estime**2)*np.linalg.inv(mGram)\n",
    "print(covTeta)\n",
    "\n",
    "print(\"L'écart type de beta0 vaut \"+str(np.sqrt(covTeta[0][0])))\n",
    "print(\"L'écart type de beta1 vaut \"+str(np.sqrt(covTeta[1][1])))\n",
    "print(\"L'écart type de beta1 vaut \"+str(np.sqrt(covTeta[2][2])))"
   ]
  },
  {
   "cell_type": "markdown",
   "metadata": {},
   "source": [
    "### Question 11\n",
    "Pour les valeurs de GNP 1000 et interest 10, i.e., $x = (1, 1000, 10)^T$ , prédire log(investment) et donner les intervalles de confiance $CI(x)$ et $PI(x)$ au niveau 99.9%"
   ]
  },
  {
   "cell_type": "code",
   "execution_count": 121,
   "metadata": {},
   "outputs": [
    {
     "name": "stdout",
     "output_type": "stream",
     "text": [
      "IC = [4.75013136139408,5.194800930638004]\n",
      "PI = [4.6324284942872165,5.273970047009964]\n"
     ]
    }
   ],
   "source": [
    "ICinf,ICsup,PIinf,PIsup=getICIP(.01,[np.log(1000),10],X,TetaEstime,sigma_estime)\n",
    "print('IC = [' + str(ICinf)+',' + str(ICsup) + ']')\n",
    "print('PI = [' + str(PIinf)+',' + str(PIsup) + ']')"
   ]
  },
  {
   "cell_type": "markdown",
   "metadata": {},
   "source": [
    "### Question 12\n",
    "Sur un même graph à 3 dimensions avec les axes suivants : log(GNP), Interest, and log(Investment), tracer les données, le “plan” de régression et les surfaces correspondantes aux intervalles de confiance à 99.9% (ces surfaces seront tracées sur le domaine de définition des données)."
   ]
  },
  {
   "cell_type": "markdown",
   "metadata": {},
   "source": [
    "### Question 13\n",
    "\n",
    "En utilisant des classes/librairies existantes, donner les coefficients de régression, le coefficient de détermination ainsi que l’investissement prédit par le modèle quand GNP vaut 100 et interest 10. La classe LinearRegression() de sklearn.linear_model est suggérée mais pas obligatoire. Vérifier que les valeurs calculées ici coïncident avec celles des questions précédentes.\n"
   ]
  },
  {
   "cell_type": "code",
   "execution_count": 129,
   "metadata": {},
   "outputs": [
    {
     "name": "stdout",
     "output_type": "stream",
     "text": [
      "[[ 6.77239364  5.16      ]\n",
      " [ 6.85012617  5.87      ]\n",
      " [ 6.9004285   5.95      ]\n",
      " [ 6.98249163  4.88      ]\n",
      " [ 7.07825726  4.5       ]\n",
      " [ 7.19022378  6.44      ]\n",
      " [ 7.26836248  7.83      ]\n",
      " [ 7.34549395  6.25      ]\n",
      " [ 7.4489161   5.5       ]\n",
      " [ 7.55919466  5.46      ]\n",
      " [ 7.67966743  7.46      ]\n",
      " [ 7.79061331 10.28      ]\n",
      " [ 7.87591714 11.77      ]\n",
      " [ 7.98538224 13.42      ]\n",
      " [ 8.02535287 11.02      ]]\n",
      "beta0 des librairies : -2.1804547259114004 Intercept calculé : -2.180454725912682\n",
      "Pente des librairies : 1.0512426913196595 pente calculé : 1.0512426913200557\n",
      "Pente des librairies : -0.006528879406068252 pente calculé : -0.006528879406129562\n",
      "Coefficient de détermination des librairies : 0.9633108306726245 Coefficient de détermination calculé : 0.9633108306727456\n",
      "Y(1000,10) prédit des librairies : 5.0159837304826835 Y(1000,10) prédit calculé : 5.049724126316802\n"
     ]
    }
   ],
   "source": [
    "from sklearn.linear_model import LinearRegression\n",
    "regr = LinearRegression()\n",
    "# Train the model using the training sets\n",
    "Xtilde=np.array([investDF.gnp,investDF.interest]).T\n",
    "print(Xtilde)\n",
    "regr.fit(Xtilde, Y)\n",
    "\n",
    "# Make predictions using the testing set\n",
    "regr.coef_\n",
    "\n",
    "print(\"beta0 des librairies : \"+str(regr.intercept_) +\" Intercept calculé : \"+str(TetaEstime[0]))\n",
    "print(\"Pente des librairies : \"+str(regr.coef_[0]) +\" pente calculé : \"+str(TetaEstime[1]))\n",
    "print(\"Pente des librairies : \"+str(regr.coef_[1]) +\" pente calculé : \"+str(TetaEstime[2]))\n",
    "print(\"Coefficient de détermination des librairies : \"+str(regr.score(Xtilde, Y)) +\" Coefficient de détermination calculé : \"+str(Rsquare))\n",
    "print(\"Y(1000,10) prédit des librairies : \"+str(regr.predict([[np.log(1000),10]])[0]) +\" Y(1000,10) prédit calculé : \"+str(Y1000))\n"
   ]
  }
 ],
 "metadata": {
  "kernelspec": {
   "display_name": "Python 3",
   "language": "python",
   "name": "python3"
  },
  "language_info": {
   "codemirror_mode": {
    "name": "ipython",
    "version": 3
   },
   "file_extension": ".py",
   "mimetype": "text/x-python",
   "name": "python",
   "nbconvert_exporter": "python",
   "pygments_lexer": "ipython3",
   "version": "3.6.6"
  }
 },
 "nbformat": 4,
 "nbformat_minor": 2
}
